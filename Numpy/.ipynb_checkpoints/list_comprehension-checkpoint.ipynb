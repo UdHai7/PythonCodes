{
 "cells": [
  {
   "cell_type": "code",
   "execution_count": 1,
   "metadata": {
    "collapsed": false
   },
   "outputs": [
    {
     "name": "stdout",
     "output_type": "stream",
     "text": [
      "[102.56, 97.7, 99.14, 100.03999999999999]\n"
     ]
    }
   ],
   "source": [
    "Celsius = [39.2, 36.5, 37.3, 37.8]\n",
    "Fahrenheit = [ ((float(9)/5)*x + 32) for x in Celsius ]\n",
    "print(Fahrenheit)"
   ]
  },
  {
   "cell_type": "code",
   "execution_count": 2,
   "metadata": {
    "collapsed": false
   },
   "outputs": [
    {
     "data": {
      "text/plain": [
       "[(3, 4, 5),\n",
       " (5, 12, 13),\n",
       " (6, 8, 10),\n",
       " (7, 24, 25),\n",
       " (8, 15, 17),\n",
       " (9, 12, 15),\n",
       " (10, 24, 26),\n",
       " (12, 16, 20),\n",
       " (15, 20, 25),\n",
       " (20, 21, 29)]"
      ]
     },
     "execution_count": 2,
     "metadata": {},
     "output_type": "execute_result"
    }
   ],
   "source": [
    "[(x,y,z) for x in range(1,30) for y in range(x,30) for z in range(y,30) if x**2 + y**2 == z**2]"
   ]
  },
  {
   "cell_type": "code",
   "execution_count": 3,
   "metadata": {
    "collapsed": false
   },
   "outputs": [
    {
     "name": "stdout",
     "output_type": "stream",
     "text": [
      "[('red', 'house'), ('red', 'car'), ('red', 'tree'), ('green', 'house'), ('green', 'car'), ('green', 'tree'), ('yellow', 'house'), ('yellow', 'car'), ('yellow', 'tree'), ('blue', 'house'), ('blue', 'car'), ('blue', 'tree')]\n"
     ]
    }
   ],
   "source": [
    "colours = [ \"red\", \"green\", \"yellow\", \"blue\" ]\n",
    "things = [ \"house\", \"car\", \"tree\" ]\n",
    "coloured_things = [ (x,y) for x in colours for y in things ]\n",
    "print(coloured_things)"
   ]
  },
  {
   "cell_type": "code",
   "execution_count": 4,
   "metadata": {
    "collapsed": false
   },
   "outputs": [
    {
     "name": "stdout",
     "output_type": "stream",
     "text": [
      "<generator object <genexpr> at 0x7f57ecbcd6e0>\n"
     ]
    }
   ],
   "source": [
    "x = (x **2 for x in range(20))\n",
    "print(x)"
   ]
  },
  {
   "cell_type": "code",
   "execution_count": 5,
   "metadata": {
    "collapsed": false
   },
   "outputs": [
    {
     "name": "stdout",
     "output_type": "stream",
     "text": [
      "[0, 1, 4, 9, 16, 25, 36, 49, 64, 81, 100, 121, 144, 169, 196, 225, 256, 289, 324, 361]\n"
     ]
    }
   ],
   "source": [
    "x = list(x)\n",
    "print(x)"
   ]
  },
  {
   "cell_type": "code",
   "execution_count": 6,
   "metadata": {
    "collapsed": false
   },
   "outputs": [
    {
     "name": "stdout",
     "output_type": "stream",
     "text": [
      "[2, 3, 5, 7, 11, 13, 17, 19, 23, 29, 31, 37, 41, 43, 47, 53, 59, 61, 67, 71, 73, 79, 83, 89, 97]\n"
     ]
    }
   ],
   "source": [
    "noprimes = [j for i in range(2, 8) for j in range(i*2, 100, i)]\n",
    "primes = [x for x in range(2, 100) if x not in noprimes]\n",
    "print(primes)"
   ]
  },
  {
   "cell_type": "code",
   "execution_count": 7,
   "metadata": {
    "collapsed": false
   },
   "outputs": [
    {
     "name": "stdout",
     "output_type": "stream",
     "text": [
      "[2, 3, 5, 7, 11, 13, 17, 19, 23, 29, 31, 37, 41, 43, 47, 53, 59, 61, 67, 71, 73, 79, 83, 89, 97]\n"
     ]
    }
   ],
   "source": [
    "from math import sqrt\n",
    "n = 100\n",
    "sqrt_n = int(sqrt(n))\n",
    "no_primes = [j for i in range(2,sqrt_n) for j in range(i*2, n, i)]\n",
    "primes = [x for x in range(2, 100) if x not in noprimes]\n",
    "print(primes)"
   ]
  },
  {
   "cell_type": "code",
   "execution_count": 8,
   "metadata": {
    "collapsed": false
   },
   "outputs": [
    {
     "name": "stdout",
     "output_type": "stream",
     "text": [
      "(1, [])\n",
      "(2, set([2]))\n",
      "(3, set([2, 3]))\n",
      "(4, set([2, 3]))\n",
      "(5, set([2, 3, 5]))\n",
      "(6, set([2, 3, 5]))\n",
      "(7, set([2, 3, 5, 7]))\n",
      "(8, set([2, 3, 5, 7]))\n",
      "(9, set([2, 3, 5, 7]))\n",
      "(10, set([2, 3, 5, 7]))\n",
      "(11, set([11, 2, 3, 5, 7]))\n",
      "(12, set([11, 2, 3, 5, 7]))\n",
      "(13, set([2, 3, 5, 7, 11, 13]))\n",
      "(14, set([2, 3, 5, 7, 11, 13]))\n",
      "(15, set([2, 3, 5, 7, 11, 13]))\n",
      "(16, set([2, 3, 5, 7, 11, 13]))\n",
      "(17, set([2, 3, 5, 7, 11, 13, 17]))\n",
      "(18, set([2, 3, 5, 7, 11, 13, 17]))\n",
      "(19, set([2, 3, 5, 7, 11, 13, 17, 19]))\n",
      "(20, set([2, 3, 5, 7, 11, 13, 17, 19]))\n",
      "(21, set([2, 3, 5, 7, 11, 13, 17, 19]))\n",
      "(22, set([2, 3, 5, 7, 11, 13, 17, 19]))\n",
      "(23, set([2, 3, 5, 7, 11, 13, 17, 19, 23]))\n",
      "(24, set([2, 3, 5, 7, 11, 13, 17, 19, 23]))\n",
      "(25, set([2, 3, 5, 7, 11, 13, 17, 19, 23]))\n",
      "(26, set([2, 3, 5, 7, 11, 13, 17, 19, 23]))\n",
      "(27, set([2, 3, 5, 7, 11, 13, 17, 19, 23]))\n",
      "(28, set([2, 3, 5, 7, 11, 13, 17, 19, 23]))\n",
      "(29, set([2, 3, 5, 7, 11, 13, 17, 19, 23, 29]))\n",
      "(30, set([2, 3, 5, 7, 11, 13, 17, 19, 23, 29]))\n",
      "(31, set([2, 3, 5, 7, 11, 13, 17, 19, 23, 29, 31]))\n",
      "(32, set([2, 3, 5, 7, 11, 13, 17, 19, 23, 29, 31]))\n",
      "(33, set([2, 3, 5, 7, 11, 13, 17, 19, 23, 29, 31]))\n",
      "(34, set([2, 3, 5, 7, 11, 13, 17, 19, 23, 29, 31]))\n",
      "(35, set([2, 3, 5, 7, 11, 13, 17, 19, 23, 29, 31]))\n",
      "(36, set([2, 3, 5, 7, 11, 13, 17, 19, 23, 29, 31]))\n",
      "(37, set([2, 3, 5, 7, 11, 13, 17, 37, 19, 23, 29, 31]))\n",
      "(38, set([2, 3, 5, 7, 11, 13, 17, 37, 19, 23, 29, 31]))\n",
      "(39, set([2, 3, 5, 7, 11, 13, 17, 37, 19, 23, 29, 31]))\n",
      "(40, set([2, 3, 5, 7, 11, 13, 17, 37, 19, 23, 29, 31]))\n",
      "(41, set([2, 3, 5, 7, 41, 11, 13, 17, 37, 19, 23, 29, 31]))\n",
      "(42, set([2, 3, 5, 7, 41, 11, 13, 17, 37, 19, 23, 29, 31]))\n",
      "(43, set([2, 3, 5, 7, 41, 11, 13, 17, 37, 19, 43, 23, 29, 31]))\n",
      "(44, set([2, 3, 5, 7, 41, 11, 13, 17, 37, 19, 43, 23, 29, 31]))\n",
      "(45, set([2, 3, 5, 7, 41, 11, 13, 17, 37, 19, 43, 23, 29, 31]))\n",
      "(46, set([2, 3, 5, 7, 41, 11, 13, 17, 37, 19, 43, 23, 29, 31]))\n",
      "(47, set([2, 3, 5, 7, 41, 11, 13, 47, 17, 37, 19, 43, 23, 29, 31]))\n",
      "(48, set([2, 3, 5, 7, 41, 11, 13, 47, 17, 37, 19, 43, 23, 29, 31]))\n",
      "(49, set([2, 3, 5, 7, 41, 11, 13, 47, 17, 37, 19, 43, 23, 29, 31]))\n"
     ]
    }
   ],
   "source": [
    "def primes(n):\n",
    "    if n == 0:\n",
    "        return []\n",
    "    elif n == 1:\n",
    "        return []\n",
    "    else:\n",
    "        p = primes(int(sqrt(n)))\n",
    "        no_p = {j for i in p for j in range(i*2, n+1, i)}\n",
    "        p = {x for x in range(2, n + 1) if x not in no_p}\n",
    "    return p\n",
    "\n",
    "for i in range(1,50):\n",
    "    print(i, primes(i))"
   ]
  },
  {
   "cell_type": "code",
   "execution_count": null,
   "metadata": {
    "collapsed": true
   },
   "outputs": [],
   "source": []
  }
 ],
 "metadata": {
  "kernelspec": {
   "display_name": "Python 2",
   "language": "python",
   "name": "python2"
  },
  "language_info": {
   "codemirror_mode": {
    "name": "ipython",
    "version": 2
   },
   "file_extension": ".py",
   "mimetype": "text/x-python",
   "name": "python",
   "nbconvert_exporter": "python",
   "pygments_lexer": "ipython2",
   "version": "2.7.6"
  }
 },
 "nbformat": 4,
 "nbformat_minor": 2
}
