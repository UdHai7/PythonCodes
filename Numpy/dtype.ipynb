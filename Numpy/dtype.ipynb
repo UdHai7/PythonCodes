{
 "cells": [
  {
   "cell_type": "code",
   "execution_count": 52,
   "metadata": {
    "collapsed": true,
    "deletable": true,
    "editable": true
   },
   "outputs": [],
   "source": [
    "import numpy as np"
   ]
  },
  {
   "cell_type": "code",
   "execution_count": 53,
   "metadata": {
    "collapsed": false,
    "deletable": true,
    "editable": true
   },
   "outputs": [
    {
     "name": "stdout",
     "output_type": "stream",
     "text": [
      "int16\n"
     ]
    }
   ],
   "source": [
    "i16 = np.dtype(np.int16)\n",
    "print(i16)"
   ]
  },
  {
   "cell_type": "code",
   "execution_count": 54,
   "metadata": {
    "collapsed": false,
    "deletable": true,
    "editable": true
   },
   "outputs": [
    {
     "name": "stdout",
     "output_type": "stream",
     "text": [
      "[[ 3  8  9]\n",
      " [ 1 -7  0]\n",
      " [ 4 12  4]]\n"
     ]
    }
   ],
   "source": [
    "lst = [ [3.4, 8.7, 9.9], \n",
    "        [1.1, -7.8, -0.7],\n",
    "        [4.1, 12.3, 4.8] ]\n",
    "A = np.array(lst, dtype=i16)\n",
    "print(A)"
   ]
  },
  {
   "cell_type": "code",
   "execution_count": 55,
   "metadata": {
    "collapsed": false,
    "deletable": true,
    "editable": true
   },
   "outputs": [
    {
     "name": "stdout",
     "output_type": "stream",
     "text": [
      "[(393,) (337,) (256,)]\n",
      "\n",
      "The internal representation:\n",
      "array([(393,), (337,), (256,)], \n",
      "      dtype=[('density', '<i4')])\n"
     ]
    }
   ],
   "source": [
    "dt = np.dtype([('density', np.int32)])\n",
    "x = np.array([(393,), (337,), (256,)],\n",
    "             dtype=dt)\n",
    "print(x)\n",
    "print(\"\\nThe internal representation:\")\n",
    "print(repr(x))"
   ]
  },
  {
   "cell_type": "code",
   "execution_count": 56,
   "metadata": {
    "collapsed": false,
    "deletable": true,
    "editable": true
   },
   "outputs": [
    {
     "name": "stdout",
     "output_type": "stream",
     "text": [
      "[393 337 256]\n"
     ]
    }
   ],
   "source": [
    "print(x['density'])"
   ]
  },
  {
   "cell_type": "code",
   "execution_count": 57,
   "metadata": {
    "collapsed": false,
    "deletable": true,
    "editable": true
   },
   "outputs": [
    {
     "name": "stdout",
     "output_type": "stream",
     "text": [
      "[(393,) (337,) (256,)]\n"
     ]
    }
   ],
   "source": [
    "dt = np.dtype([('density', 'i4')])\n",
    "x = np.array([(393,), (337,), (256,)],\n",
    "             dtype=dt)\n",
    "print(x)"
   ]
  },
  {
   "cell_type": "code",
   "execution_count": 58,
   "metadata": {
    "collapsed": false,
    "deletable": true,
    "editable": true
   },
   "outputs": [
    {
     "name": "stdout",
     "output_type": "stream",
     "text": [
      "('float64', '=', 8)\n",
      "('float64', '>', 8)\n",
      "('float64', '=', 8)\n"
     ]
    }
   ],
   "source": [
    "dt = np.dtype('<d') \n",
    "print(dt.name, dt.byteorder, dt.itemsize)\n",
    "dt = np.dtype('>d')  \n",
    "print(dt.name, dt.byteorder, dt.itemsize)\n",
    "dt = np.dtype('d') \n",
    "print(dt.name, dt.byteorder, dt.itemsize)"
   ]
  },
  {
   "cell_type": "code",
   "execution_count": 59,
   "metadata": {
    "collapsed": true,
    "deletable": true,
    "editable": true
   },
   "outputs": [],
   "source": [
    "dt = np.dtype([('country', 'S20'), ('density', 'i4'), ('area', 'i4'), ('population', 'i4')])\n",
    "x = np.array([('Netherlands', 393, 41526, 16928800),\n",
    "('Belgium', 337, 30510, 11007020),\n",
    "('United Kingdom', 256, 243610, 62262000),\n",
    "('Germany', 233, 357021, 81799600),\n",
    "('Liechtenstein', 205, 160, 32842),\n",
    "('Italy', 192, 301230, 59715625),\n",
    "('Switzerland', 177, 41290, 7301994),\n",
    "('Luxembourg', 173, 2586, 512000),\n",
    "('France', 111, 547030, 63601002),\n",
    "('Austria', 97, 83858, 8169929),\n",
    "('Greece', 81, 131940, 11606813),\n",
    "('Ireland', 65, 70280, 4581269),\n",
    "('Sweden', 20, 449964, 9515744),\n",
    "('Finland', 16, 338424, 5410233),\n",
    "('Norway', 13, 385252, 5033675)],\n",
    "             dtype=dt)"
   ]
  },
  {
   "cell_type": "code",
   "execution_count": 60,
   "metadata": {
    "collapsed": false,
    "deletable": true,
    "editable": true
   },
   "outputs": [
    {
     "name": "stdout",
     "output_type": "stream",
     "text": [
      "[('Netherlands', 393,  41526, 16928800) ('Belgium', 337,  30510, 11007020)\n",
      " ('United Kingdom', 256, 243610, 62262000)\n",
      " ('Germany', 233, 357021, 81799600)\n",
      " ('Liechtenstein', 205,    160,    32842) ('Italy', 192, 301230, 59715625)\n",
      " ('Switzerland', 177,  41290,  7301994)\n",
      " ('Luxembourg', 173,   2586,   512000) ('France', 111, 547030, 63601002)\n",
      " ('Austria',  97,  83858,  8169929) ('Greece',  81, 131940, 11606813)\n",
      " ('Ireland',  65,  70280,  4581269) ('Sweden',  20, 449964,  9515744)\n",
      " ('Finland',  16, 338424,  5410233) ('Norway',  13, 385252,  5033675)]\n",
      "[('Netherlands', 393,  41526, 16928800) ('Belgium', 337,  30510, 11007020)\n",
      " ('United Kingdom', 256, 243610, 62262000)\n",
      " ('Germany', 233, 357021, 81799600)]\n"
     ]
    }
   ],
   "source": [
    "print (x)\n",
    "print(x[:4])"
   ]
  },
  {
   "cell_type": "code",
   "execution_count": 61,
   "metadata": {
    "collapsed": false,
    "deletable": true,
    "editable": true
   },
   "outputs": [
    {
     "name": "stdout",
     "output_type": "stream",
     "text": [
      "[393 337 256 233 205 192 177 173 111  97  81  65  20  16  13]\n",
      "['Netherlands' 'Belgium' 'United Kingdom' 'Germany' 'Liechtenstein' 'Italy'\n",
      " 'Switzerland' 'Luxembourg' 'France' 'Austria' 'Greece' 'Ireland' 'Sweden'\n",
      " 'Finland' 'Norway']\n",
      "[243610 357021    160]\n"
     ]
    }
   ],
   "source": [
    "print(x['density'])\n",
    "print(x['country'])\n",
    "print(x['area'][2:5])"
   ]
  },
  {
   "cell_type": "code",
   "execution_count": 62,
   "metadata": {
    "collapsed": false,
    "deletable": true,
    "editable": true
   },
   "outputs": [
    {
     "name": "stdout",
     "output_type": "stream",
     "text": [
      "[(11, 38, 5) (14, 56, 0) ( 3,  9, 1)]\n",
      "(11, 38, 5)\n",
      "(11, 42, 17)\n"
     ]
    }
   ],
   "source": [
    "time_type = np.dtype( [('h', int), ('min', int), ('sec', int)])\n",
    "times = np.array([(11, 38, 5), \n",
    "                  (14, 56, 0),\n",
    "                  (3, 9, 1)], dtype=time_type)\n",
    "print(times)\n",
    "print(times[0])\n",
    "# reset the first time record:\n",
    "times[0] = (11, 42, 17)\n",
    "print(times[0])"
   ]
  },
  {
   "cell_type": "code",
   "execution_count": 63,
   "metadata": {
    "collapsed": false,
    "deletable": true,
    "editable": true
   },
   "outputs": [],
   "source": [
    "time_type = np.dtype( np.dtype([('time', [('h', int), ('min', int), ('sec', int)]),\n",
    "                                ('temperature', float)] ))\n",
    "times = np.array( [((11, 42, 17), 20.8), ((13, 19, 3), 23.2) ], dtype=time_type)"
   ]
  },
  {
   "cell_type": "code",
   "execution_count": 64,
   "metadata": {
    "collapsed": false,
    "deletable": true,
    "editable": true
   },
   "outputs": [
    {
     "name": "stdout",
     "output_type": "stream",
     "text": [
      "[((11, 42, 17),  20.8) ((13, 19,  3),  23.2)]\n",
      "[(11, 42, 17) (13, 19,  3)]\n",
      "[11 13]\n",
      "[ 20.8  23.2]\n"
     ]
    }
   ],
   "source": [
    "print(times)\n",
    "print(times['time'])\n",
    "print(times['time']['h'])\n",
    "print(times['temperature'])"
   ]
  },
  {
   "cell_type": "code",
   "execution_count": 3,
   "metadata": {
    "collapsed": false,
    "deletable": true,
    "editable": true
   },
   "outputs": [
    {
     "ename": "SyntaxError",
     "evalue": "invalid syntax (<ipython-input-3-07200f965cf2>, line 8)",
     "output_type": "error",
     "traceback": [
      "\u001b[0;36m  File \u001b[0;32m\"<ipython-input-3-07200f965cf2>\"\u001b[0;36m, line \u001b[0;32m8\u001b[0m\n\u001b[0;31m    *city, day, time = line.split()\u001b[0m\n\u001b[0m    ^\u001b[0m\n\u001b[0;31mSyntaxError\u001b[0m\u001b[0;31m:\u001b[0m invalid syntax\n"
     ]
    }
   ],
   "source": [
    "import pickle\n",
    "\n",
    "lines = open(\"cities_and_times.txt\").readlines()\n",
    "lines.sort()\n",
    "\n",
    "cities = []\n",
    "for line  in lines:\n",
    "    *city, day, time = line.split()\n",
    "    hours, minutes = time.split(\":\")\n",
    "    cities.append((\" \".join(city), day, (int(hours), int(minutes)) ))\n",
    "\n",
    "fh = open(\"citiesandtimes.pkl\", \"bw\")\n",
    "pickle.dump(cities, fh)"
   ]
  },
  {
   "cell_type": "code",
   "execution_count": 32,
   "metadata": {
    "collapsed": false,
    "deletable": true,
    "editable": true
   },
   "outputs": [
    {
     "name": "stdout",
     "output_type": "stream",
     "text": [
      "['Chicago\\tSun 01:52\\r\\nColumbus Sun 02:52\\r\\nRiyadh\\tSun 10:52\\r\\nCopenhagen\\tSun 08:52\\r\\nKuwait City\\tSun 10:52\\r\\nRome\\tSun 08:52\\r\\nDallas\\tSun 01:52\\r\\nSalt Lake City\\tSun 01:52\\r\\nSan Francisco Sun 00:52\\r\\nAmsterdam Sun 08:52\\r\\nDenver Sun 01:52\\r\\nSan Salvador Sun 01:52\\r\\nDetroit\\tSun 02:52\\r\\nLas Vegas Sun 00:52\\r\\nSantiago\\tSun 04:52\\r\\nAnchorage Sat 23:52\\r\\nAnkara Sun 10:52\\r\\nLisbon\\tSun 07:52\\r\\nS\\xc3\\x83\\xc2\\xa3o Paulo\\tSun 05:52\\r\\nDubai\\tSun 11:52\\r\\nLondon\\tSun 07:52\\r\\nSeattle\\tSun 00:52\\r\\nDublin\\tSun 07:52\\r\\nLos Angeles Sun 00:52\\r\\nAthens\\tSun 09:52\\r\\nEdmonton Sun 01:52\\r\\nMadrid\\tSun 08:52\\r\\nShanghai Sun 15:52\\r\\nAtlanta\\tSun 02:52\\r\\nFrankfurt\\tSun 08:52\\r\\nSingapore Sun 15:52\\r\\nAuckland Sun 20:52\\r\\nHalifax\\tSun 03:52\\r\\nMelbourne Sun 18:52\\r\\nStockholm\\tSun 08:52\\r\\nBarcelona\\tSun 08:52\\r\\nMiami\\tSun 02:52\\r\\nMinneapolis\\tSun 01:52\\r\\nSydney Sun 18:52\\r\\nBeirut\\tSun 09:52\\r\\nHelsinki\\tSun 09:52\\r\\nMontreal\\tSun 02:52\\r\\nBerlin\\tSun 08:52\\r\\nHouston\\tSun 01:52\\r\\nMoscow\\tSun 10:52\\r\\nIndianapolis\\tSun 02:52\\t\\r\\nBoston\\tSun 02:52\\r\\nTokyo\\tSun 16:52\\r\\nBrasilia Sun 05:52\\r\\nIstanbul Sun 10:52\\r\\nToronto\\tSun 02:52\\r\\nVancouver\\tSun 00:52\\r\\nBrussels\\tSun 08:52\\r\\nJerusalem\\tSun 09:52\\r\\nNew Orleans\\tSun 01:52\\r\\nVienna\\tSun 08:52\\r\\nBucharest\\tSun 09:52\\r\\nJohannesburg\\tSun 09:52\\r\\nNew York\\tSun 02:52\\r\\nWarsaw\\tSun 08:52\\r\\nBudapest\\tSun 08:52\\r\\nOslo\\tSun 08:52\\r\\nWashington DC\\tSun 02:52\\r\\nOttawa\\tSun 02:52\\r\\nWinnipeg\\tSun 01:52\\r\\nCairo\\tSun 09:52\\r\\nParis\\tSun 08:52\\r\\nCalgary\\tSun 01:52\\r\\nKathmandu\\tSun 13:37\\r\\nPhiladelphia\\tSun 02:52\\r\\nZurich\\tSun 08:52\\r\\nCape Town\\tSun 09:52\\r\\nPhoenix\\tSun 00:52\\t\\t\\r\\nPrague\\tSun 08:52\\t\\t\\r\\nCasablanca\\tSun 07:52\\r\\nReykjavik\\tSun 07:52\\r\\n']\n"
     ]
    }
   ],
   "source": [
    "fh = open('citiesandtimes.pkl','rb')\n",
    "cities_and_times=pickle.load(fh)\n",
    "print(cities_and_times[:30])"
   ]
  },
  {
   "cell_type": "code",
   "execution_count": 34,
   "metadata": {
    "collapsed": false,
    "deletable": true,
    "editable": true
   },
   "outputs": [
    {
     "name": "stdout",
     "output_type": "stream",
     "text": [
      "[(8389187215163208245, 7584941817387371552)]\n",
      "[ u'\\U63696843\\U096f6761\\U206e7553\\U353a3130\\U430a0d32\\U6d756c6f\\U20737562\\U206e7553\\U353a3230\\U520a0d32\\U64617969\\U75530968\\U3031206e\\U0d32353a\\U706f430a\\U61686e65\\U096e6567\\U206e7553\\U353a3830\\U4b0a0d32\\U69617775\\U69432074\\U53097974\\U31206e75\\U32353a30\\U6f520a0d\\U5309656d\\U30206e75\\U32353a38\\U61440a0d']\n"
     ]
    },
    {
     "ename": "IndexError",
     "evalue": "index 27 is out of bounds for axis 0 with size 1",
     "output_type": "error",
     "traceback": [
      "\u001b[0;31m---------------------------------------------------------------------------\u001b[0m",
      "\u001b[0;31mIndexError\u001b[0m                                Traceback (most recent call last)",
      "\u001b[0;32m<ipython-input-34-dcb96e6992f0>\u001b[0m in \u001b[0;36m<module>\u001b[0;34m()\u001b[0m\n\u001b[1;32m      3\u001b[0m \u001b[0;32mprint\u001b[0m\u001b[0;34m(\u001b[0m\u001b[0mtimes\u001b[0m\u001b[0;34m[\u001b[0m\u001b[0;34m'time'\u001b[0m\u001b[0;34m]\u001b[0m\u001b[0;34m)\u001b[0m\u001b[0;34m\u001b[0m\u001b[0m\n\u001b[1;32m      4\u001b[0m \u001b[0;32mprint\u001b[0m\u001b[0;34m(\u001b[0m\u001b[0mtimes\u001b[0m\u001b[0;34m[\u001b[0m\u001b[0;34m'city'\u001b[0m\u001b[0;34m]\u001b[0m\u001b[0;34m)\u001b[0m\u001b[0;34m\u001b[0m\u001b[0m\n\u001b[0;32m----> 5\u001b[0;31m \u001b[0mx\u001b[0m \u001b[0;34m=\u001b[0m \u001b[0mtimes\u001b[0m\u001b[0;34m[\u001b[0m\u001b[0;36m27\u001b[0m\u001b[0;34m]\u001b[0m\u001b[0;34m\u001b[0m\u001b[0m\n\u001b[0m\u001b[1;32m      6\u001b[0m \u001b[0mx\u001b[0m\u001b[0;34m[\u001b[0m\u001b[0;36m0\u001b[0m\u001b[0;34m]\u001b[0m\u001b[0;34m\u001b[0m\u001b[0m\n",
      "\u001b[0;31mIndexError\u001b[0m: index 27 is out of bounds for axis 0 with size 1"
     ]
    }
   ],
   "source": [
    "time_type = np.dtype([('city', 'U30'), ('day', 'U3'), ('time', [('h', int), ('min', int)])])\n",
    "times = np.array( cities_and_times , dtype=time_type)\n",
    "print(times['time'])\n",
    "print(times['city'])\n",
    "x = times[27]\n",
    "x[0]"
   ]
  },
  {
   "cell_type": "code",
   "execution_count": null,
   "metadata": {
    "collapsed": true,
    "deletable": true,
    "editable": true
   },
   "outputs": [],
   "source": []
  }
 ],
 "metadata": {
  "kernelspec": {
   "display_name": "Python 2",
   "language": "python",
   "name": "python2"
  },
  "language_info": {
   "codemirror_mode": {
    "name": "ipython",
    "version": 2
   },
   "file_extension": ".py",
   "mimetype": "text/x-python",
   "name": "python",
   "nbconvert_exporter": "python",
   "pygments_lexer": "ipython2",
   "version": "2.7.6"
  }
 },
 "nbformat": 4,
 "nbformat_minor": 2
}
