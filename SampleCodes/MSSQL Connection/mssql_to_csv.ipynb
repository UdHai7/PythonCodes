{
 "cells": [
  {
   "cell_type": "code",
   "execution_count": 30,
   "metadata": {
    "collapsed": false
   },
   "outputs": [],
   "source": [
    "#importing module  \n",
    "import pypyodbc\n",
    "import csv\n",
    "import sys\n",
    "reload(sys)\n",
    "sys.setdefaultencoding('utf-8')"
   ]
  },
  {
   "cell_type": "code",
   "execution_count": 31,
   "metadata": {
    "collapsed": false
   },
   "outputs": [],
   "source": [
    "dsn = 'sqlserverdatasource'\n",
    "user = 'IvyCPG_ROW_Projectsdatauser'\n",
    "password = 'IvyCPG_ROW_Projectsdt676303pgi'\n",
    "database = 'IvyCPG_ROW_Projects'"
   ]
  },
  {
   "cell_type": "code",
   "execution_count": 32,
   "metadata": {
    "collapsed": false
   },
   "outputs": [],
   "source": [
    "con_string = 'DSN=%s;UID=%s;PWD=%s;DATABASE=%s;' % (dsn, user, password, database)\n",
    "connection = pypyodbc.connect(con_string)\n",
    "cursor = connection.cursor()"
   ]
  },
  {
   "cell_type": "code",
   "execution_count": 33,
   "metadata": {
    "collapsed": false
   },
   "outputs": [],
   "source": [
    "SQLCommand = (\"Select * from dbo.AppData_Sales_Invoice_Detail\")  \n",
    "#Processing Query  \n",
    "cursor.execute(SQLCommand)\n",
    "with open(\"/home/udhai/Shared_Win/Python_OwnGIT/PythonCodes/SampleCodes/MSSQL Connection/out.csv\", \"wb\") as csv_file:              # Python 2 version\n",
    "    csv_writer = csv.writer(csv_file,delimiter='|')\n",
    "    csv_writer.writerow([i[0] for i in cursor.description]) # write headers\n",
    "    csv_writer.writerows(cursor.fetchall())"
   ]
  },
  {
   "cell_type": "code",
   "execution_count": null,
   "metadata": {
    "collapsed": true
   },
   "outputs": [],
   "source": []
  }
 ],
 "metadata": {
  "kernelspec": {
   "display_name": "Python 2",
   "language": "python",
   "name": "python2"
  },
  "language_info": {
   "codemirror_mode": {
    "name": "ipython",
    "version": 2
   },
   "file_extension": ".py",
   "mimetype": "text/x-python",
   "name": "python",
   "nbconvert_exporter": "python",
   "pygments_lexer": "ipython2",
   "version": "2.7.6"
  }
 },
 "nbformat": 4,
 "nbformat_minor": 2
}
