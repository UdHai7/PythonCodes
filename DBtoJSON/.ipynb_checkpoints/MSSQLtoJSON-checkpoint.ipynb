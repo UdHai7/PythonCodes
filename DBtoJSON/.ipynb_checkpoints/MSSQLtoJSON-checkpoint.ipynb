{
 "cells": [
  {
   "cell_type": "code",
   "execution_count": 1,
   "metadata": {
    "collapsed": true,
    "deletable": true,
    "editable": true
   },
   "outputs": [],
   "source": [
    "#Importing modules\n",
    "import pyodbc\n",
    "import json\n",
    "import collections"
   ]
  },
  {
   "cell_type": "code",
   "execution_count": 2,
   "metadata": {
    "collapsed": true,
    "deletable": true,
    "editable": true
   },
   "outputs": [],
   "source": [
    "class DecimalEncoder(json.JSONEncoder):\n",
    "    def default(self, o):\n",
    "        if isinstance(o, decimal.Decimal):\n",
    "            return float(o)\n",
    "        return super(DecimalEncoder, self).default(o)"
   ]
  },
  {
   "cell_type": "code",
   "execution_count": 3,
   "metadata": {
    "collapsed": false,
    "deletable": true,
    "editable": true,
    "scrolled": true
   },
   "outputs": [
    {
     "ename": "ProgrammingError",
     "evalue": "('42000', \"[42000] [unixODBC][FreeTDS][SQL Server]Login failed for user 'IvyCPG_Carlsberg_datauser'. Reason: The account is disabled. (18470) (SQLDriverConnect)\")",
     "output_type": "error",
     "traceback": [
      "\u001b[0;31m---------------------------------------------------------------------------\u001b[0m",
      "\u001b[0;31mProgrammingError\u001b[0m                          Traceback (most recent call last)",
      "\u001b[0;32m<ipython-input-3-8af06b8cd8a3>\u001b[0m in \u001b[0;36m<module>\u001b[0;34m()\u001b[0m\n\u001b[1;32m      1\u001b[0m \u001b[0;31m#MSSQL connection\u001b[0m\u001b[0;34m\u001b[0m\u001b[0;34m\u001b[0m\u001b[0m\n\u001b[1;32m      2\u001b[0m \u001b[0mconnstr\u001b[0m \u001b[0;34m=\u001b[0m \u001b[0;34m'DRIVER={FreeTDS};SERVER=msdb2.ivy-support.com;PORT=1433;DATABASE=IvyCPG_Carlsberg;UID=IvyCPG_Carlsberg_datauser;PWD=IvyCPG_Carlsberg_datauser25;TDS_Version=7.2;'\u001b[0m\u001b[0;34m\u001b[0m\u001b[0m\n\u001b[0;32m----> 3\u001b[0;31m \u001b[0mconn\u001b[0m \u001b[0;34m=\u001b[0m \u001b[0mpyodbc\u001b[0m\u001b[0;34m.\u001b[0m\u001b[0mconnect\u001b[0m\u001b[0;34m(\u001b[0m\u001b[0mconnstr\u001b[0m\u001b[0;34m)\u001b[0m\u001b[0;34m\u001b[0m\u001b[0m\n\u001b[0m\u001b[1;32m      4\u001b[0m \u001b[0mcursor\u001b[0m \u001b[0;34m=\u001b[0m \u001b[0mconn\u001b[0m\u001b[0;34m.\u001b[0m\u001b[0mcursor\u001b[0m\u001b[0;34m(\u001b[0m\u001b[0;34m)\u001b[0m\u001b[0;34m\u001b[0m\u001b[0m\n",
      "\u001b[0;31mProgrammingError\u001b[0m: ('42000', \"[42000] [unixODBC][FreeTDS][SQL Server]Login failed for user 'IvyCPG_Carlsberg_datauser'. Reason: The account is disabled. (18470) (SQLDriverConnect)\")"
     ]
    }
   ],
   "source": [
    "#MSSQL connection\n",
    "connstr = 'DRIVER={FreeTDS};SERVER=msdb2.ivy-support.com;PORT=1433;DATABASE=sd_castrol;UID=sd_castrol_sauser;PWD=sd_castrol_sauseradfasd;TDS_Version=7.2;'\n",
    "conn = pyodbc.connect(connstr)\n",
    "cursor = conn.cursor()"
   ]
  },
  {
   "cell_type": "code",
   "execution_count": 7,
   "metadata": {
    "collapsed": false,
    "deletable": true,
    "editable": true
   },
   "outputs": [
    {
     "ename": "NameError",
     "evalue": "name 'cursor' is not defined",
     "output_type": "error",
     "traceback": [
      "\u001b[0;31m---------------------------------------------------------------------------\u001b[0m",
      "\u001b[0;31mNameError\u001b[0m                                 Traceback (most recent call last)",
      "\u001b[0;32m<ipython-input-7-86f454d74f35>\u001b[0m in \u001b[0;36m<module>\u001b[0;34m()\u001b[0m\n\u001b[0;32m----> 1\u001b[0;31m cursor.execute(\"\"\"\n\u001b[0m\u001b[1;32m      2\u001b[0m             \u001b[0mselect\u001b[0m \u001b[0mDISTINCT\u001b[0m\u001b[0;34m\u001b[0m\u001b[0m\n\u001b[1;32m      3\u001b[0m \u001b[0mIH\u001b[0m\u001b[0;34m.\u001b[0m\u001b[0mSIH_ARTR_Id\u001b[0m \u001b[0;32mas\u001b[0m \u001b[0mRetId\u001b[0m\u001b[0;34m\u001b[0m\u001b[0m\n\u001b[1;32m      4\u001b[0m \u001b[0;34m,\u001b[0m\u001b[0mARTR\u001b[0m\u001b[0;34m.\u001b[0m\u001b[0mARTR_Code\u001b[0m \u001b[0;32mas\u001b[0m \u001b[0mRetCode\u001b[0m\u001b[0;34m\u001b[0m\u001b[0m\n\u001b[1;32m      5\u001b[0m \u001b[0;34m,\u001b[0m\u001b[0mARTR\u001b[0m\u001b[0;34m.\u001b[0m\u001b[0mARTR_Name\u001b[0m \u001b[0;32mas\u001b[0m \u001b[0mRetName\u001b[0m\u001b[0;34m\u001b[0m\u001b[0m\n",
      "\u001b[0;31mNameError\u001b[0m: name 'cursor' is not defined"
     ]
    }
   ],
   "source": [
    "cursor.execute(\"\"\"\n",
    "            select DISTINCT \n",
    "IH.SIH_ARTR_Id as RetId\n",
    ",ARTR.ARTR_Code as RetCode\n",
    ",ARTR.ARTR_Name as RetName\n",
    ",SUM(ID.SID_Qty) as InvQty\n",
    ",CAST(SUM(ID.SID_Line_Value) as decimal(18,2)) as InvValue \n",
    "from AppData_Sales_Invoice_Header IH\n",
    "inner join AppData_Sales_Invoice_Detail ID on IH.SIH_Id=ID.SID_SIH_ID\n",
    "INNER JOIN ADM_Retailer ARTR on ARTR.ARTR_Id=IH.SIH_ARTR_Id\n",
    "GROUP BY IH.SIH_ARTR_Id,ARTR.ARTR_Code,ARTR.ARTR_Name\n",
    "            \"\"\")\n",
    " \n",
    "rows = cursor.fetchall()"
   ]
  },
  {
   "cell_type": "code",
   "execution_count": 6,
   "metadata": {
    "collapsed": false,
    "deletable": true,
    "editable": true
   },
   "outputs": [
    {
     "ename": "NameError",
     "evalue": "name 'rows' is not defined",
     "output_type": "error",
     "traceback": [
      "\u001b[0;31m---------------------------------------------------------------------------\u001b[0m",
      "\u001b[0;31mNameError\u001b[0m                                 Traceback (most recent call last)",
      "\u001b[0;32m<ipython-input-6-0e911244df81>\u001b[0m in \u001b[0;36m<module>\u001b[0;34m()\u001b[0m\n\u001b[1;32m      2\u001b[0m \u001b[0;34m\u001b[0m\u001b[0m\n\u001b[1;32m      3\u001b[0m \u001b[0mrowarray_list\u001b[0m \u001b[0;34m=\u001b[0m \u001b[0;34m[\u001b[0m\u001b[0;34m]\u001b[0m\u001b[0;34m\u001b[0m\u001b[0m\n\u001b[0;32m----> 4\u001b[0;31m \u001b[0;32mfor\u001b[0m \u001b[0mrow\u001b[0m \u001b[0;32min\u001b[0m \u001b[0mrows\u001b[0m\u001b[0;34m:\u001b[0m\u001b[0;34m\u001b[0m\u001b[0m\n\u001b[0m\u001b[1;32m      5\u001b[0m     t = (row.RetId, row.RetCode, row.RetName, row.InvQty, \n\u001b[1;32m      6\u001b[0m          row.InvValue)\n",
      "\u001b[0;31mNameError\u001b[0m: name 'rows' is not defined"
     ]
    }
   ],
   "source": [
    "# Convert query to row arrays\n",
    " \n",
    "rowarray_list = []\n",
    "for row in rows:\n",
    "    t = (row.RetId, row.RetCode, row.RetName, row.InvQty, \n",
    "         row.InvValue)\n",
    "    rowarray_list.append(t)\n",
    " \n",
    "j = json.dumps(rowarray_list)\n",
    "rowarrays_file = 'invoice_ret_rowarrays.js'\n",
    "f = open(rowarrays_file,'w')\n",
    "#print &gt;&gt; f, j"
   ]
  },
  {
   "cell_type": "code",
   "execution_count": null,
   "metadata": {
    "collapsed": true,
    "deletable": true,
    "editable": true
   },
   "outputs": [],
   "source": []
  }
 ],
 "metadata": {
  "kernelspec": {
   "display_name": "Python 2",
   "language": "python",
   "name": "python2"
  },
  "language_info": {
   "codemirror_mode": {
    "name": "ipython",
    "version": 2
   },
   "file_extension": ".py",
   "mimetype": "text/x-python",
   "name": "python",
   "nbconvert_exporter": "python",
   "pygments_lexer": "ipython2",
   "version": "2.7.6"
  }
 },
 "nbformat": 4,
 "nbformat_minor": 2
}
