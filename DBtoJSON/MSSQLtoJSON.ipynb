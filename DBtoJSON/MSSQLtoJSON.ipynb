{
 "cells": [
  {
   "cell_type": "code",
   "execution_count": 9,
   "metadata": {
    "collapsed": true,
    "deletable": true,
    "editable": true
   },
   "outputs": [],
   "source": [
    "#Importing modules\n",
    "import pyodbc\n",
    "import json\n",
    "import collections"
   ]
  },
  {
   "cell_type": "code",
   "execution_count": 10,
   "metadata": {
    "collapsed": true,
    "deletable": true,
    "editable": true
   },
   "outputs": [],
   "source": [
    "class DecimalEncoder(json.JSONEncoder):\n",
    "    def default(self, o):\n",
    "        if isinstance(o, decimal.Decimal):\n",
    "            return float(o)\n",
    "        return super(DecimalEncoder, self).default(o)"
   ]
  },
  {
   "cell_type": "code",
   "execution_count": 11,
   "metadata": {
    "collapsed": false,
    "deletable": true,
    "editable": true,
    "scrolled": true
   },
   "outputs": [],
   "source": [
    "#MSSQL connection\n",
    "connstr = 'DRIVER={FreeTDS};SERVER=msdb2.ivy-support.com;PORT=1433;DATABASE=sd_castrol;UID=sd_castrol_sauser;PWD=sd_castrol_sauseradfasd;TDS_Version=7.2;'\n",
    "conn = pyodbc.connect(connstr)\n",
    "cursor = conn.cursor()"
   ]
  },
  {
   "cell_type": "code",
   "execution_count": 12,
   "metadata": {
    "collapsed": false,
    "deletable": true,
    "editable": true
   },
   "outputs": [],
   "source": [
    "cursor.execute(\"\"\"\n",
    "            SELECT \n",
    "ID.InvoiceNo \"InvNo\" \n",
    ",ID.ProductID \"ProductId\"\n",
    ",PM.AProductName \"ProductName\"\n",
    ",SUM(ID.Qty) \"InvoicedQty\"\n",
    ",ID.Rate \"UnitPrice\"\n",
    ",SUM(ID.Discount) \"Discount\"\n",
    ",SUM(ID.NetRate) \"NetAmt\"\n",
    "FROM InvoiceDetails ID\n",
    "LEFT JOIN ProductMaster PM ON ID.ProductID=PM.Old_ProductCode\n",
    "GROUP BY ID.InvoiceNo,ID.ProductID,PM.AProductName,ID.Rate \n",
    "            \"\"\")\n",
    " \n",
    "rows = cursor.fetchall()"
   ]
  },
  {
   "cell_type": "code",
   "execution_count": 13,
   "metadata": {
    "collapsed": false,
    "deletable": true,
    "editable": true
   },
   "outputs": [],
   "source": [
    "# Convert query to row arrays\n",
    " \n",
    "rowarray_list = []\n",
    "for row in rows:\n",
    "    t = (row.InvNo, row.ProductId, row.ProductName, row.InvoicedQty,float(row.Discount),\n",
    "         float(row.UnitPrice),float(row.NetAmt))\n",
    "    rowarray_list.append(t)\n",
    "\n",
    "with open('invoice_ret_rowarrays.json', 'w') as outfile:  \n",
    "    json.dump(rowarray_list, outfile)\n",
    "    \n",
    "#print f, j"
   ]
  },
  {
   "cell_type": "code",
   "execution_count": 16,
   "metadata": {
    "collapsed": false,
    "deletable": true,
    "editable": true
   },
   "outputs": [],
   "source": [
    "# Convert query to objects of key-value pairs\n",
    " \n",
    "objects_list = []\n",
    "for row in rows:\n",
    "    d = collections.OrderedDict()\n",
    "    d['InvNo'] = row.InvNo\n",
    "    d['ProductId'] = row.ProductId\n",
    "    d['ProductName'] = row.ProductName\n",
    "    d['InvoicedQty'] = row.InvoicedQty\n",
    "    d['Discount'] = float(row.Discount)\n",
    "    d['UnitPrice'] = float(row.UnitPrice)\n",
    "    d['NetAmt'] = float(row.NetAmt)\n",
    "    objects_list.append(d)\n",
    "\n",
    "with open('student_objects.json','w') as outputfile:  \n",
    "    json.dump(objects_list, outputfile)\n",
    "#rint f, j"
   ]
  },
  {
   "cell_type": "code",
   "execution_count": 17,
   "metadata": {
    "collapsed": false,
    "deletable": true,
    "editable": true
   },
   "outputs": [],
   "source": [
    "#Closing the connection\n",
    "conn.close()"
   ]
  },
  {
   "cell_type": "code",
   "execution_count": null,
   "metadata": {
    "collapsed": true,
    "deletable": true,
    "editable": true
   },
   "outputs": [],
   "source": []
  }
 ],
 "metadata": {
  "kernelspec": {
   "display_name": "Python 2",
   "language": "python",
   "name": "python2"
  },
  "language_info": {
   "codemirror_mode": {
    "name": "ipython",
    "version": 2
   },
   "file_extension": ".py",
   "mimetype": "text/x-python",
   "name": "python",
   "nbconvert_exporter": "python",
   "pygments_lexer": "ipython2",
   "version": "2.7.6"
  }
 },
 "nbformat": 4,
 "nbformat_minor": 2
}
